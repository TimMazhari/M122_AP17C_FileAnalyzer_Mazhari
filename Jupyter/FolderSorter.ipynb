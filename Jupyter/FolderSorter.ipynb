{
 "cells": [
  {
   "cell_type": "code",
   "execution_count": 19,
   "metadata": {},
   "outputs": [],
   "source": [
    "$test = Get-ChildItem -Path \"C:\\Users\\Bim Bababi\\Desktop\\Neuer Ordner\"\n",
    "\n",
    " foreach($a in $test){\n",
    "  if($a.Extension -ne \"\"){\n",
    "      Remove-Item $a\n",
    "  }\n",
    "}\n"
   ]
  },
  {
   "cell_type": "code",
   "execution_count": 14,
   "metadata": {},
   "outputs": [
    {
     "name": "stdout",
     "output_type": "stream",
     "text": [
      "\n",
      "\n",
      "    Directory: C:\\sources\\school\\modul122\\M122_AP17C_FileAnalyzer_Mazhari\\Jupyter\n",
      "\n",
      "Mode                 LastWriteTime         Length Name\n",
      "----                 -------------         ------ ----\n",
      "d----          04.05.2020    18:20                .ipynb_checkpoints\n",
      "-a---          04.05.2020    18:22            952 FolderSorter.ipynb\n",
      "\n"
     ]
    }
   ],
   "source": []
  }
 ],
 "metadata": {
  "kernelspec": {
   "display_name": ".NET (PowerShell)",
   "language": "PowerShell",
   "name": ".net-powershell"
  },
  "language_info": {
   "file_extension": ".ps1",
   "mimetype": "text/x-powershell",
   "name": "PowerShell",
   "pygments_lexer": "powershell",
   "version": "7.0"
  }
 },
 "nbformat": 4,
 "nbformat_minor": 4
}
