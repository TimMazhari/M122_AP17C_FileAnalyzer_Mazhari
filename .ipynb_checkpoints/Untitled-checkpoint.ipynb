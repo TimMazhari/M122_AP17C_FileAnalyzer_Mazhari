{
 "cells": [
  {
   "cell_type": "code",
   "execution_count": 3,
   "metadata": {},
   "outputs": [
    {
     "name": "stdout",
     "output_type": "stream",
     "text": [
      "\u001b[91m.: \u001b[91mThe term '.\\M122_AP17C_FileAnalyzer_Mazhari\\utilities\\json_utilities.ps1' is not recognized as the name of a cmdlet, function, script file, or operable program.\n",
      "Check the spelling of the name, or if a path was included, verify that the path is correct and try again.\u001b[0m\n",
      "\u001b[91mConvert-FromJson: \n",
      "\u001b[96mLine |\n",
      "\u001b[96m   3 | \u001b[0m $folders = \u001b[96mConvert-FromJson\u001b[0m\n",
      "\u001b[96m     | \u001b[91m            ~~~~~~~~~~~~~~~~\n",
      "\u001b[91m\u001b[96m     | \u001b[91mThe term 'Convert-FromJson' is not recognized as the name of a cmdlet, function, script file, or operable program.\n",
      "Check the spelling of the name, or if a path was included, verify that the path is correct and try again.\u001b[0m\n"
     ]
    }
   ],
   "source": [
    ". .\\M122_AP17C_FileAnalyzer_Mazhari\\utilities\\json_utilities.ps1\n",
    "\n",
    "$folders = Convert-FromJson\n",
    "foreach($folder in $folders){\n",
    "    [System.Collections.ArrayList] $allFilesInSource = Get-ChildItem -Path $folder.Path\n",
    "    $allFileNamesInSource = Get-ChildItem -Path $folder.Path -Name\n",
    "    foreach($file in $allFilesInSource){\n",
    "        if($file.Extension -ne \"\"){\n",
    "            Remove-Item $file\n",
    "        }\n",
    "    }\n",
    "} \n"
   ]
  },
  {
   "cell_type": "code",
   "execution_count": 1,
   "metadata": {},
   "outputs": [
    {
     "data": {
      "text/html": [
       "<script type=\"text/javascript\">#!javascript\r\n",
       "if ((typeof(requirejs) !==  typeof(Function)) || (typeof(requirejs.config) !== typeof(Function))) { \r\n",
       "    let script = document.createElement(\"script\"); \r\n",
       "    script.setAttribute(\"src\", \"https://cdnjs.cloudflare.com/ajax/libs/require.js/2.3.6/require.min.js\"); \r\n",
       "    script.onload = function(){\r\n",
       "        loadDotnetInteractiveApi();\r\n",
       "    };\r\n",
       "    document.getElementsByTagName(\"head\")[0].appendChild(script); \r\n",
       "}\r\n",
       "else {\r\n",
       "    loadDotnetInteractiveApi();\r\n",
       "}\r\n",
       "\r\n",
       "function loadDotnetInteractiveApi(){\r\n",
       "    let apiRequire = requirejs.config({context:\"dotnet-interactive.41380.58545\",paths:{dotnetInteractive:\"http://localhost:58545/resources/dotnet-interactive\"}});\r\n",
       "    apiRequire(['dotnetInteractive'], \r\n",
       "    function(api) {       \r\n",
       "        api.createDotnetInteractiveClient(\"http://localhost:58545/\", window);\r\n",
       "    },\r\n",
       "    function(error){\r\n",
       "        console.log(error);\r\n",
       "    });\r\n",
       "}</script>"
      ]
     },
     "metadata": {},
     "output_type": "display_data"
    },
    {
     "name": "stdout",
     "output_type": "stream",
     "text": [
      "TEST\n"
     ]
    }
   ],
   "source": [
    "Write-Host(\"TEST\")"
   ]
  }
 ],
 "metadata": {
  "kernelspec": {
   "display_name": ".NET (PowerShell)",
   "language": "PowerShell",
   "name": ".net-powershell"
  },
  "language_info": {
   "name": ""
  }
 },
 "nbformat": 4,
 "nbformat_minor": 4
}
