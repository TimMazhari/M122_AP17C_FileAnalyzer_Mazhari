{
 "cells": [
  {
   "cell_type": "code",
   "execution_count": null,
   "metadata": {},
   "outputs": [],
   "source": [
    ". C:\\sources\\school\\modul122\\M122_AP17C_FileAnalyzer_Mazhari\\utilities\\json_utilities.ps1\n",
    "\n",
    "$folders = Convert-FromJson\n",
    "foreach($folder in $folders){\n",
    "    [System.Collections.ArrayList] $allFilesInSource = Get-ChildItem -Path $folder.Path\n",
    "    $allFileNamesInSource = Get-ChildItem -Path $folder.Path -Name\n",
    "    foreach($file in $allFilesInSource){\n",
    "        if($file.Extension -ne \"\"){\n",
    "            Move-Item -Path $file -Destination C:\\Test1\n",
    "        }\n",
    "    }\n",
    "} \n"
   ]
  },
  {
   "cell_type": "code",
   "execution_count": 34,
   "metadata": {},
   "outputs": [],
   "source": [
    ". C:\\sources\\school\\modul122\\M122_AP17C_FileAnalyzer_Mazhari\\utilities\\json_utilities.ps1\n",
    "\n",
    "$folders = Convert-FromJson1\n",
    "foreach($folder in $folders){\n",
    "    [System.Collections.ArrayList] $allFilesInSource = Get-ChildItem -Path $folder.Path\n",
    "    $allFileNamesInSource = Get-ChildItem -Path $folder.Path -Name\n",
    "    foreach($file in $allFilesInSource){\n",
    "        foreach($rule in $folder.Rules){\n",
    "            if($rule.Filetype -eq $file.Extension.ToString()){\n",
    "                Move-Item -Path $file -Destination $rule.Destination\n",
    "            }\n",
    "        }\n",
    "    }\n",
    "}"
   ]
  },
  {
   "cell_type": "code",
   "execution_count": 31,
   "metadata": {},
   "outputs": [
    {
     "name": "stdout",
     "output_type": "stream",
     "text": [
      "\n",
      "Name Path    Rules\n",
      "---- ----    -----\n",
      "Test C:\\Test {@{Filetype=.txt; Minsize=0; Maxsize=0; Destination=C:\\Test1}}\n",
      "\n"
     ]
    }
   ],
   "source": [
    "Get-Content \"C:\\sources\\school\\modul122\\M122_AP17C_FileAnalyzer_Mazhari\\monitored_folders.json\" | ConvertFrom-Json\n"
   ]
  },
  {
   "cell_type": "code",
   "execution_count": null,
   "metadata": {},
   "outputs": [],
   "source": [
    "$folders"
   ]
  },
  {
   "cell_type": "code",
   "execution_count": 24,
   "metadata": {},
   "outputs": [
    {
     "name": "stdout",
     "output_type": "stream",
     "text": [
      "@{Name=Test; Path=C:\\Test; Rules=System.Object[]}\n",
      "\n",
      "Id     Name            PSJobTypeName   State         HasMoreData     Location             Command\n",
      "--     ----            -------------   -----         -----------     --------             -------\n",
      "11     FolderSortJob   ThreadJob       NotStarted    False           PowerShell           …\n",
      "\n"
     ]
    }
   ],
   "source": [
    ". C:\\sources\\school\\modul122\\M122_AP17C_FileAnalyzer_Mazhari\\utilities\\json_utilities.ps1\n",
    "\n",
    "\n",
    "Start-ThreadJob -Name FolderSortJob -ScriptBlock({\n",
    "            $folders = Convert-FromJson1\n",
    "            foreach($folder in $folders){\n",
    "               Write-Host($folder)\n",
    "                [System.Collections.ArrayList] $allFilesInSource = Get-ChildItem -Path $folder.Path\n",
    "                $allFileNamesInSource = Get-ChildItem -Path $folder.Path -Name\n",
    "                foreach($file in $allFilesInSource){\n",
    "                    foreach($rule in $folder.Rules){\n",
    "                        if($rule.Filetype -eq $file.Extension.ToString()){\n",
    "                            Move-Item -Path $file -Destination $rule.Destination\n",
    "                        }\n",
    "                    }\n",
    "                }\n",
    "            }\n",
    "            sleep(1)\n",
    "    })\n",
    "    \n"
   ]
  },
  {
   "cell_type": "code",
   "execution_count": 23,
   "metadata": {},
   "outputs": [],
   "source": [
    "Get-Job | Receive-Job"
   ]
  }
 ],
 "metadata": {
  "kernelspec": {
   "display_name": ".NET (PowerShell)",
   "language": "PowerShell",
   "name": ".net-powershell"
  },
  "language_info": {
   "file_extension": ".ps1",
   "mimetype": "text/x-powershell",
   "name": "PowerShell",
   "pygments_lexer": "powershell",
   "version": "7.0"
  }
 },
 "nbformat": 4,
 "nbformat_minor": 4
}
